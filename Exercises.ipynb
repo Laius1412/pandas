{
  "cells": [
    {
      "cell_type": "markdown",
      "metadata": {
        "pycharm": {
          "name": "#%% md\n"
        },
        "id": "R6qCi5EGyNT2"
      },
      "source": [
        "# Pokemon"
      ]
    },
    {
      "cell_type": "markdown",
      "metadata": {
        "pycharm": {
          "name": "#%% md\n"
        },
        "id": "lT0f0BQ6yNT3"
      },
      "source": [
        "### Introduction:\n",
        "\n",
        "This time you will create the data.\n",
        "\n",
        "\n",
        "\n",
        "### Step 1. Import the necessary libraries"
      ]
    },
    {
      "cell_type": "code",
      "execution_count": 1,
      "metadata": {
        "pycharm": {
          "name": "#%%\n"
        },
        "id": "baR47UDeyNT4"
      },
      "outputs": [],
      "source": [
        "import pandas as pd"
      ]
    },
    {
      "cell_type": "markdown",
      "metadata": {
        "pycharm": {
          "name": "#%% md\n"
        },
        "id": "zcyVebt4yNT4"
      },
      "source": [
        "### Step 2. Create a data dictionary that looks like the DataFrame below"
      ]
    },
    {
      "cell_type": "code",
      "execution_count": 2,
      "metadata": {
        "collapsed": true,
        "pycharm": {
          "name": "#%%\n"
        },
        "id": "QOUtoqcAyNT4"
      },
      "outputs": [],
      "source": [
        "data = {\n",
        "    \"evolution\": [\"Ivysaur\", \"Charmeleon\", \"Wartortle\", \"Metapod\"],\n",
        "    \"hp\": [45, 39, 44, 45],\n",
        "    \"name\": [\"Bulbasaur\", \"Charmander\", \"Squirtle\", \"Caterpie\"],\n",
        "    \"pokedex\": [\"yes\", \"no\", \"yes\", \"no\"],\n",
        "    \"type\": [\"grass\", \"fire\", \"water\", \"bug\"]\n",
        "}"
      ]
    },
    {
      "cell_type": "markdown",
      "metadata": {
        "pycharm": {
          "name": "#%% md\n"
        },
        "id": "MDXO6U6vyNT4"
      },
      "source": [
        "### Step 3. Assign it to a variable called pokemon"
      ]
    },
    {
      "cell_type": "code",
      "execution_count": 3,
      "metadata": {
        "pycharm": {
          "name": "#%%\n"
        },
        "id": "bdZ0iJt6yNT4"
      },
      "outputs": [],
      "source": [
        "pokemon = pd.DataFrame(data)"
      ]
    },
    {
      "cell_type": "markdown",
      "metadata": {
        "pycharm": {
          "name": "#%% md\n"
        },
        "id": "FTY7VcVFyNT5"
      },
      "source": [
        "### Step 4. Ops...it seems the DataFrame columns are in alphabetical order. Place  the order of the columns as name, type, hp, evolution, pokedex"
      ]
    },
    {
      "cell_type": "code",
      "execution_count": 4,
      "metadata": {
        "pycharm": {
          "name": "#%%\n"
        },
        "id": "VjGFtewAyNT5"
      },
      "outputs": [],
      "source": [
        "pokemon = pokemon[[\"name\", \"type\", \"hp\", \"evolution\", \"pokedex\"]]"
      ]
    },
    {
      "cell_type": "markdown",
      "metadata": {
        "pycharm": {
          "name": "#%% md\n"
        },
        "id": "2Cxt-RCzyNT5"
      },
      "source": [
        "### Step 5. Add another column called place, and insert what you have in mind."
      ]
    },
    {
      "cell_type": "code",
      "execution_count": 5,
      "metadata": {
        "pycharm": {
          "name": "#%%\n"
        },
        "id": "cGRR7L41yNT5"
      },
      "outputs": [],
      "source": [
        "pokemon[\"place\"] = [\"forest\", \"volcano\", \"lake\", \"garden\"]"
      ]
    },
    {
      "cell_type": "markdown",
      "metadata": {
        "pycharm": {
          "name": "#%% md\n"
        },
        "id": "xQRaENxEyNT6"
      },
      "source": [
        "### Step 6. Present the type of each column"
      ]
    },
    {
      "cell_type": "code",
      "execution_count": 6,
      "metadata": {
        "pycharm": {
          "name": "#%%\n"
        },
        "colab": {
          "base_uri": "https://localhost:8080/",
          "height": 0
        },
        "id": "5tOl5AGZyNT6",
        "outputId": "b66a8d38-3aa0-47a8-b140-44eb50b7f451"
      },
      "outputs": [
        {
          "output_type": "stream",
          "name": "stdout",
          "text": [
            "Kiểu dữ liệu của từng cột:\n",
            "name         object\n",
            "type         object\n",
            "hp            int64\n",
            "evolution    object\n",
            "pokedex      object\n",
            "place        object\n",
            "dtype: object\n"
          ]
        }
      ],
      "source": [
        "print(\"Kiểu dữ liệu của từng cột:\")\n",
        "print(pokemon.dtypes)"
      ]
    },
    {
      "cell_type": "markdown",
      "metadata": {
        "pycharm": {
          "name": "#%% md\n"
        },
        "id": "6u4ATQq_yNT6"
      },
      "source": [
        "### BONUS: Create your own question and answer it."
      ]
    },
    {
      "cell_type": "code",
      "execution_count": 7,
      "metadata": {
        "collapsed": true,
        "pycharm": {
          "name": "#%%\n"
        },
        "colab": {
          "base_uri": "https://localhost:8080/",
          "height": 0
        },
        "id": "EWmf4dgYyNT6",
        "outputId": "48e2cc20-c379-4221-cdca-3aacfb4121eb"
      },
      "outputs": [
        {
          "output_type": "stream",
          "name": "stdout",
          "text": [
            "\n",
            "BONUS - Pokémon có HP cao nhất là:\n",
            "        name   type  hp evolution pokedex   place\n",
            "0  Bulbasaur  grass  45   Ivysaur     yes  forest\n",
            "3   Caterpie    bug  45   Metapod      no  garden\n"
          ]
        }
      ],
      "source": [
        "max_hp_pokemon = pokemon[pokemon[\"hp\"] == pokemon[\"hp\"].max()]\n",
        "print(\"\\nBONUS - Pokémon có HP cao nhất là:\")\n",
        "print(max_hp_pokemon)"
      ]
    }
  ],
  "metadata": {
    "kernelspec": {
      "display_name": "Python 2",
      "language": "python",
      "name": "python2"
    },
    "language_info": {
      "codemirror_mode": {
        "name": "ipython",
        "version": 2
      },
      "file_extension": ".py",
      "mimetype": "text/x-python",
      "name": "python",
      "nbconvert_exporter": "python",
      "pygments_lexer": "ipython2",
      "version": "2.7.11"
    },
    "colab": {
      "provenance": []
    }
  },
  "nbformat": 4,
  "nbformat_minor": 0
}