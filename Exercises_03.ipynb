{
  "cells": [
    {
      "cell_type": "markdown",
      "metadata": {
        "pycharm": {
          "name": "#%% md\n"
        },
        "id": "Gr4vBara2RlZ"
      },
      "source": [
        "# US - Baby Names"
      ]
    },
    {
      "cell_type": "markdown",
      "metadata": {
        "pycharm": {
          "name": "#%% md\n"
        },
        "id": "LCCynNVA2Rla"
      },
      "source": [
        "### Introduction:\n",
        "\n",
        "We are going to use a subset of [US Baby Names](https://www.kaggle.com/kaggle/us-baby-names) from Kaggle.  \n",
        "In the file it will be names from 2004 until 2014\n",
        "\n",
        "\n",
        "### Step 1. Import the necessary libraries"
      ]
    },
    {
      "cell_type": "code",
      "execution_count": 8,
      "metadata": {
        "pycharm": {
          "name": "#%%\n"
        },
        "id": "hSVLPZ3L2Rlb"
      },
      "outputs": [],
      "source": [
        "import pandas as pd\n",
        "import numpy as np\n"
      ]
    },
    {
      "cell_type": "markdown",
      "metadata": {
        "pycharm": {
          "name": "#%% md\n"
        },
        "id": "4upXBQ-y2Rlb"
      },
      "source": [
        "### Step 2. Import the dataset from this [address](https://raw.githubusercontent.com/thieu1995/csv-files/main/data/pandas/US_Baby_Names_right.csv)."
      ]
    },
    {
      "cell_type": "markdown",
      "metadata": {
        "pycharm": {
          "name": "#%% md\n"
        },
        "id": "voNxklvR2Rlb"
      },
      "source": [
        "### Step 3. Assign it to a variable called baby_names."
      ]
    },
    {
      "cell_type": "code",
      "execution_count": 9,
      "metadata": {
        "pycharm": {
          "name": "#%%\n"
        },
        "id": "bKTubHFL2Rlb"
      },
      "outputs": [],
      "source": [
        "import pandas as pd\n",
        "baby_names = pd.read_csv(url)\n"
      ]
    },
    {
      "cell_type": "markdown",
      "metadata": {
        "pycharm": {
          "name": "#%% md\n"
        },
        "id": "wy1cXit72Rlb"
      },
      "source": [
        "### Step 4. See the first 10 entries"
      ]
    },
    {
      "cell_type": "code",
      "execution_count": 10,
      "metadata": {
        "pycharm": {
          "name": "#%%\n"
        },
        "colab": {
          "base_uri": "https://localhost:8080/"
        },
        "id": "kfJ5h6Bg2Rlb",
        "outputId": "558d5cb5-d655-4229-d07f-2d9fe0bfe591"
      },
      "outputs": [
        {
          "output_type": "stream",
          "name": "stdout",
          "text": [
            "   Unnamed: 0     Id      Name  Year Gender State  Count\n",
            "0       11349  11350      Emma  2004      F    AK     62\n",
            "1       11350  11351   Madison  2004      F    AK     48\n",
            "2       11351  11352    Hannah  2004      F    AK     46\n",
            "3       11352  11353     Grace  2004      F    AK     44\n",
            "4       11353  11354     Emily  2004      F    AK     41\n",
            "5       11354  11355   Abigail  2004      F    AK     37\n",
            "6       11355  11356    Olivia  2004      F    AK     33\n",
            "7       11356  11357  Isabella  2004      F    AK     30\n",
            "8       11357  11358    Alyssa  2004      F    AK     29\n",
            "9       11358  11359    Sophia  2004      F    AK     28\n"
          ]
        }
      ],
      "source": [
        "\n",
        "print(baby_names.head(10))\n"
      ]
    },
    {
      "cell_type": "markdown",
      "metadata": {
        "pycharm": {
          "name": "#%% md\n"
        },
        "id": "FltL5o9W2Rlb"
      },
      "source": [
        "### Step 5. Delete the column 'Unnamed: 0' and 'Id'"
      ]
    },
    {
      "cell_type": "code",
      "execution_count": 11,
      "metadata": {
        "pycharm": {
          "name": "#%%\n"
        },
        "id": "rXpqdfNx2Rlb"
      },
      "outputs": [],
      "source": [
        "baby_names = baby_names.drop(['Unnamed: 0', 'Id'], axis=1)\n"
      ]
    },
    {
      "cell_type": "code",
      "source": [
        "print(baby_names.head())"
      ],
      "metadata": {
        "colab": {
          "base_uri": "https://localhost:8080/"
        },
        "id": "wnnXg_ap3kFq",
        "outputId": "0c4a193b-70d7-40ab-f18f-0794413c42f0"
      },
      "execution_count": 12,
      "outputs": [
        {
          "output_type": "stream",
          "name": "stdout",
          "text": [
            "      Name  Year Gender State  Count\n",
            "0     Emma  2004      F    AK     62\n",
            "1  Madison  2004      F    AK     48\n",
            "2   Hannah  2004      F    AK     46\n",
            "3    Grace  2004      F    AK     44\n",
            "4    Emily  2004      F    AK     41\n"
          ]
        }
      ]
    },
    {
      "cell_type": "markdown",
      "metadata": {
        "pycharm": {
          "name": "#%% md\n"
        },
        "id": "sbe1RRj92Rlc"
      },
      "source": [
        "### Step 6. Is there more male or female names in the dataset?"
      ]
    },
    {
      "cell_type": "code",
      "execution_count": 15,
      "metadata": {
        "pycharm": {
          "name": "#%%\n"
        },
        "colab": {
          "base_uri": "https://localhost:8080/"
        },
        "id": "fHDeK0-G2Rlc",
        "outputId": "df334ae3-ba48-48d5-a651-41e8ed7263a3"
      },
      "outputs": [
        {
          "output_type": "stream",
          "name": "stdout",
          "text": [
            "Số lượng tên nam: 457549\n",
            "Số lượng tên nữ: 558846\n",
            "Có nhiều tên nữ hơn trong tập dữ liệu.\n"
          ]
        }
      ],
      "source": [
        "# Số lượng tên nam và nữ\n",
        "male_count = baby_names[baby_names['Gender'] == 'M'].shape[0]\n",
        "female_count = baby_names[baby_names['Gender'] == 'F'].shape[0]\n",
        "\n",
        "print(f\"Số lượng tên nam: {male_count}\")\n",
        "print(f\"Số lượng tên nữ: {female_count}\")\n",
        "\n",
        "if male_count > female_count:\n",
        "    print(\"Có nhiều tên nam hơn trong tập dữ liệu.\")\n",
        "elif female_count > male_count:\n",
        "    print(\"Có nhiều tên nữ hơn trong tập dữ liệu.\")\n",
        "else:\n",
        "    print(\"Số lượng tên nam và nữ bằng nhau trong tập dữ liệu.\")\n"
      ]
    },
    {
      "cell_type": "markdown",
      "metadata": {
        "pycharm": {
          "name": "#%% md\n"
        },
        "id": "TWYmCT_g2Rlc"
      },
      "source": [
        "### Step 7. Group the dataset by name and assign to names"
      ]
    },
    {
      "cell_type": "code",
      "execution_count": 16,
      "metadata": {
        "pycharm": {
          "name": "#%%\n"
        },
        "colab": {
          "base_uri": "https://localhost:8080/"
        },
        "id": "0fQDsj0Z2Rlc",
        "outputId": "eccb5755-a2ba-4f47-b21e-49800e0ad259"
      },
      "outputs": [
        {
          "output_type": "stream",
          "name": "stdout",
          "text": [
            "            Name  Year Gender State  Count\n",
            "0           Emma  2004      F    AK     62\n",
            "1        Madison  2004      F    AK     48\n",
            "2         Hannah  2004      F    AK     46\n",
            "3          Grace  2004      F    AK     44\n",
            "4          Emily  2004      F    AK     41\n",
            "...          ...   ...    ...   ...    ...\n",
            "1004923  Gryffin  2014      M    WI      5\n",
            "1004950     Kroy  2014      M    WI      5\n",
            "1004973     Owyn  2014      M    WI      5\n",
            "1005707   Haylea  2005      F    WV      5\n",
            "1012216  Coalton  2012      M    WV      7\n",
            "\n",
            "[65502 rows x 5 columns]\n"
          ]
        }
      ],
      "source": [
        "names = baby_names.groupby(\"Name\")\n",
        "print(names.head())\n"
      ]
    },
    {
      "cell_type": "markdown",
      "metadata": {
        "pycharm": {
          "name": "#%% md\n"
        },
        "id": "pB8WU_Pp2Rlc"
      },
      "source": [
        "### Step 8. How many different names exist in the dataset?"
      ]
    },
    {
      "cell_type": "code",
      "execution_count": 18,
      "metadata": {
        "pycharm": {
          "name": "#%%\n"
        },
        "colab": {
          "base_uri": "https://localhost:8080/"
        },
        "id": "w7XCgZWd2Rlc",
        "outputId": "3b72aac3-3af4-452f-a57d-f1fb0b6c9307"
      },
      "outputs": [
        {
          "output_type": "stream",
          "name": "stdout",
          "text": [
            "Có 17632 tên khác nhau trong tập dữ liệu.\n"
          ]
        }
      ],
      "source": [
        "different_names = len(baby_names[\"Name\"].unique())\n",
        "print(f\"Có {different_names} tên khác nhau trong tập dữ liệu.\")\n"
      ]
    },
    {
      "cell_type": "markdown",
      "metadata": {
        "pycharm": {
          "name": "#%% md\n"
        },
        "id": "X8u6WS962Rlc"
      },
      "source": [
        "### Step 9. What is the name with most occurrences?"
      ]
    },
    {
      "cell_type": "code",
      "execution_count": 19,
      "metadata": {
        "pycharm": {
          "name": "#%%\n"
        },
        "colab": {
          "base_uri": "https://localhost:8080/"
        },
        "id": "Hk7k385g2Rlc",
        "outputId": "3d9e25e1-54e6-4343-985d-ee994ecc29c1"
      },
      "outputs": [
        {
          "output_type": "stream",
          "name": "stdout",
          "text": [
            "Tên xuất hiện nhiều nhất là: Jacob\n"
          ]
        }
      ],
      "source": [
        "name_counts = baby_names.groupby(\"Name\")[\"Count\"].sum()\n",
        "\n",
        "# Find the name with the most occurrences\n",
        "most_common_name = name_counts.idxmax()\n",
        "print(f\"Tên xuất hiện nhiều nhất là: {most_common_name}\")\n"
      ]
    },
    {
      "cell_type": "markdown",
      "metadata": {
        "pycharm": {
          "name": "#%% md\n"
        },
        "id": "l1JwKWh82Rlc"
      },
      "source": [
        "### Step 10. How many different names have the least occurrences?"
      ]
    },
    {
      "cell_type": "code",
      "execution_count": 20,
      "metadata": {
        "pycharm": {
          "name": "#%%\n"
        },
        "colab": {
          "base_uri": "https://localhost:8080/"
        },
        "id": "AS306QYD2Rlc",
        "outputId": "546fa128-3d0e-4c45-aab5-3662de956839"
      },
      "outputs": [
        {
          "output_type": "stream",
          "name": "stdout",
          "text": [
            "Số lượng tên khác nhau có số lần xuất hiện ít nhất là: 2578\n"
          ]
        }
      ],
      "source": [
        "least_occurrences = name_counts.min()\n",
        "num_least_common_names = (name_counts == least_occurrences).sum()\n",
        "print(f\"Số lượng tên khác nhau có số lần xuất hiện ít nhất là: {num_least_common_names}\")\n"
      ]
    },
    {
      "cell_type": "markdown",
      "metadata": {
        "pycharm": {
          "name": "#%% md\n"
        },
        "id": "_OXgveec2Rlc"
      },
      "source": [
        "### Step 11. What is the median name occurrence?"
      ]
    },
    {
      "cell_type": "code",
      "execution_count": null,
      "metadata": {
        "pycharm": {
          "name": "#%%\n"
        },
        "id": "sc7TX9jr2Rlc"
      },
      "outputs": [],
      "source": [
        "median_name_occurrence = name_counts.median()\n",
        "print(f\"Median name occurrence: {median_name_occurrence}\")\n"
      ]
    },
    {
      "cell_type": "markdown",
      "metadata": {
        "pycharm": {
          "name": "#%% md\n"
        },
        "id": "tJdQxWhO2Rlc"
      },
      "source": [
        "### Step 12. What is the standard deviation of names?"
      ]
    },
    {
      "cell_type": "code",
      "execution_count": 21,
      "metadata": {
        "pycharm": {
          "name": "#%%\n"
        },
        "colab": {
          "base_uri": "https://localhost:8080/"
        },
        "id": "wT8ErrDj2Rlc",
        "outputId": "eac961d5-2a6c-43f0-91dc-58412a2a18fd"
      },
      "outputs": [
        {
          "output_type": "stream",
          "name": "stdout",
          "text": [
            "Standard deviation of names: 11006.069467891111\n"
          ]
        }
      ],
      "source": [
        "std_name_occurrence = name_counts.std()\n",
        "print(f\"Standard deviation of names: {std_name_occurrence}\")\n"
      ]
    },
    {
      "cell_type": "markdown",
      "metadata": {
        "pycharm": {
          "name": "#%% md\n"
        },
        "id": "_qzOWTLU2Rlc"
      },
      "source": [
        "### Step 13. Get a summary with the mean, min, max, std and quartiles."
      ]
    },
    {
      "cell_type": "code",
      "execution_count": 22,
      "metadata": {
        "pycharm": {
          "name": "#%%\n"
        },
        "colab": {
          "base_uri": "https://localhost:8080/",
          "height": 335
        },
        "id": "uLuJwMYE2Rlc",
        "outputId": "01b0e458-23c4-48fa-fff5-e6aaed776187"
      },
      "outputs": [
        {
          "output_type": "execute_result",
          "data": {
            "text/plain": [
              "count     17632.000000\n",
              "mean       2008.932169\n",
              "std       11006.069468\n",
              "min           5.000000\n",
              "25%          11.000000\n",
              "50%          49.000000\n",
              "75%         337.000000\n",
              "max      242874.000000\n",
              "Name: Count, dtype: float64"
            ],
            "text/html": [
              "<div>\n",
              "<style scoped>\n",
              "    .dataframe tbody tr th:only-of-type {\n",
              "        vertical-align: middle;\n",
              "    }\n",
              "\n",
              "    .dataframe tbody tr th {\n",
              "        vertical-align: top;\n",
              "    }\n",
              "\n",
              "    .dataframe thead th {\n",
              "        text-align: right;\n",
              "    }\n",
              "</style>\n",
              "<table border=\"1\" class=\"dataframe\">\n",
              "  <thead>\n",
              "    <tr style=\"text-align: right;\">\n",
              "      <th></th>\n",
              "      <th>Count</th>\n",
              "    </tr>\n",
              "  </thead>\n",
              "  <tbody>\n",
              "    <tr>\n",
              "      <th>count</th>\n",
              "      <td>17632.000000</td>\n",
              "    </tr>\n",
              "    <tr>\n",
              "      <th>mean</th>\n",
              "      <td>2008.932169</td>\n",
              "    </tr>\n",
              "    <tr>\n",
              "      <th>std</th>\n",
              "      <td>11006.069468</td>\n",
              "    </tr>\n",
              "    <tr>\n",
              "      <th>min</th>\n",
              "      <td>5.000000</td>\n",
              "    </tr>\n",
              "    <tr>\n",
              "      <th>25%</th>\n",
              "      <td>11.000000</td>\n",
              "    </tr>\n",
              "    <tr>\n",
              "      <th>50%</th>\n",
              "      <td>49.000000</td>\n",
              "    </tr>\n",
              "    <tr>\n",
              "      <th>75%</th>\n",
              "      <td>337.000000</td>\n",
              "    </tr>\n",
              "    <tr>\n",
              "      <th>max</th>\n",
              "      <td>242874.000000</td>\n",
              "    </tr>\n",
              "  </tbody>\n",
              "</table>\n",
              "</div><br><label><b>dtype:</b> float64</label>"
            ]
          },
          "metadata": {},
          "execution_count": 22
        }
      ],
      "source": [
        "summary = name_counts.describe()\n",
        "summary\n"
      ]
    }
  ],
  "metadata": {
    "anaconda-cloud": {},
    "kernelspec": {
      "display_name": "Python [default]",
      "language": "python",
      "name": "python2"
    },
    "language_info": {
      "codemirror_mode": {
        "name": "ipython",
        "version": 2
      },
      "file_extension": ".py",
      "mimetype": "text/x-python",
      "name": "python",
      "nbconvert_exporter": "python",
      "pygments_lexer": "ipython2",
      "version": "2.7.11"
    },
    "colab": {
      "provenance": []
    }
  },
  "nbformat": 4,
  "nbformat_minor": 0
}