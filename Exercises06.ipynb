{
  "cells": [
    {
      "cell_type": "markdown",
      "metadata": {
        "pycharm": {
          "name": "#%% md\n"
        },
        "id": "i1wWRElg2VXn"
      },
      "source": [
        "# Fictitious Names"
      ]
    },
    {
      "cell_type": "markdown",
      "metadata": {
        "pycharm": {
          "name": "#%% md\n"
        },
        "id": "v1XaFdXL2VXo"
      },
      "source": [
        "### Introduction:\n",
        "\n",
        "This time you will create a data again\n",
        "\n",
        "Special thanks to [Chris Albon](http://chrisalbon.com/) for sharing the dataset and materials.\n",
        "All the credits to this exercise belongs to him.  \n",
        "\n",
        "In order to understand about it go [here](https://blog.codinghorror.com/a-visual-explanation-of-sql-joins/).\n",
        "\n",
        "### Step 1. Import the necessary libraries"
      ]
    },
    {
      "cell_type": "code",
      "execution_count": null,
      "metadata": {
        "pycharm": {
          "name": "#%%\n"
        },
        "id": "tvzvGxBO2VXo"
      },
      "outputs": [],
      "source": [
        "import pandas as pd"
      ]
    },
    {
      "cell_type": "markdown",
      "metadata": {
        "pycharm": {
          "name": "#%% md\n"
        },
        "id": "T1PhqzyW2VXp"
      },
      "source": [
        "### Step 2. Create the 3 DataFrames based on the following raw data"
      ]
    },
    {
      "cell_type": "code",
      "execution_count": null,
      "metadata": {
        "collapsed": true,
        "pycharm": {
          "name": "#%%\n"
        },
        "id": "l7OCpkxg2VXp"
      },
      "outputs": [],
      "source": [
        "raw_data_1 = {\n",
        "        'subject_id': ['1', '2', '3', '4', '5'],\n",
        "        'first_name': ['Alex', 'Amy', 'Allen', 'Alice', 'Ayoung'],\n",
        "        'last_name': ['Anderson', 'Ackerman', 'Ali', 'Aoni', 'Atiches']}\n",
        "\n",
        "raw_data_2 = {\n",
        "        'subject_id': ['4', '5', '6', '7', '8'],\n",
        "        'first_name': ['Billy', 'Brian', 'Bran', 'Bryce', 'Betty'],\n",
        "        'last_name': ['Bonder', 'Black', 'Balwner', 'Brice', 'Btisan']}\n",
        "\n",
        "raw_data_3 = {\n",
        "        'subject_id': ['1', '2', '3', '4', '5', '7', '8', '9', '10', '11'],\n",
        "        'test_id': [51, 15, 15, 61, 16, 14, 15, 1, 61, 16]}"
      ]
    },
    {
      "cell_type": "markdown",
      "metadata": {
        "pycharm": {
          "name": "#%% md\n"
        },
        "id": "ysD3oIvz2VXp"
      },
      "source": [
        "### Step 3. Assign each to a variable called data1, data2, data3"
      ]
    },
    {
      "cell_type": "code",
      "execution_count": null,
      "metadata": {
        "pycharm": {
          "name": "#%%\n"
        },
        "id": "OOmVr7SW2VXq"
      },
      "outputs": [],
      "source": [
        "data1 = pd.DataFrame(raw_data_1)\n",
        "data2 = pd.DataFrame(raw_data_2)\n",
        "data3 = pd.DataFrame(raw_data_3)"
      ]
    },
    {
      "cell_type": "markdown",
      "metadata": {
        "pycharm": {
          "name": "#%% md\n"
        },
        "id": "CizKTc5q2VXq"
      },
      "source": [
        "### Step 4. Join the two dataframes along rows and assign all_data"
      ]
    },
    {
      "cell_type": "code",
      "execution_count": null,
      "metadata": {
        "pycharm": {
          "name": "#%%\n"
        },
        "id": "bCVCinZj2VXq"
      },
      "outputs": [],
      "source": [
        "all_data = pd.concat([data1, data2])"
      ]
    },
    {
      "cell_type": "markdown",
      "metadata": {
        "pycharm": {
          "name": "#%% md\n"
        },
        "id": "xHTDjJAn2VXq"
      },
      "source": [
        "### Step 5. Join the two dataframes along columns and assing to all_data_col"
      ]
    },
    {
      "cell_type": "code",
      "execution_count": null,
      "metadata": {
        "pycharm": {
          "name": "#%%\n"
        },
        "id": "FZdxv_Df2VXq"
      },
      "outputs": [],
      "source": [
        "all_data_col = pd.concat([data1, data2], axis=1)"
      ]
    },
    {
      "cell_type": "markdown",
      "metadata": {
        "pycharm": {
          "name": "#%% md\n"
        },
        "id": "O15jxpN72VXq"
      },
      "source": [
        "### Step 6. Print data3"
      ]
    },
    {
      "cell_type": "code",
      "execution_count": null,
      "metadata": {
        "pycharm": {
          "name": "#%%\n"
        },
        "colab": {
          "base_uri": "https://localhost:8080/"
        },
        "id": "7jKRraYj2VXq",
        "outputId": "5772950e-c97f-4d19-9dda-d14dd468e779"
      },
      "outputs": [
        {
          "output_type": "stream",
          "name": "stdout",
          "text": [
            "  subject_id  test_id\n",
            "0          1       51\n",
            "1          2       15\n",
            "2          3       15\n",
            "3          4       61\n",
            "4          5       16\n",
            "5          7       14\n",
            "6          8       15\n",
            "7          9        1\n",
            "8         10       61\n",
            "9         11       16\n"
          ]
        }
      ],
      "source": [
        "print(data3)"
      ]
    },
    {
      "cell_type": "markdown",
      "metadata": {
        "pycharm": {
          "name": "#%% md\n"
        },
        "id": "m7FB_QEt2VXq"
      },
      "source": [
        "### Step 7. Merge all_data and data3 along the subject_id value"
      ]
    },
    {
      "cell_type": "code",
      "execution_count": null,
      "metadata": {
        "pycharm": {
          "name": "#%%\n"
        },
        "id": "IYC_CV_u2VXq"
      },
      "outputs": [],
      "source": [
        "all_data_merged = pd.merge(all_data, data3, on='subject_id')"
      ]
    },
    {
      "cell_type": "markdown",
      "metadata": {
        "pycharm": {
          "name": "#%% md\n"
        },
        "id": "ssEgVD3g2VXr"
      },
      "source": [
        "### Step 8. Merge only the data that has the same 'subject_id' on both data1 and data2"
      ]
    },
    {
      "cell_type": "code",
      "execution_count": null,
      "metadata": {
        "pycharm": {
          "name": "#%%\n"
        },
        "id": "TMyrAzhq2VXr"
      },
      "outputs": [],
      "source": [
        "data1_data2_merged = pd.merge(data1, data2, on='subject_id', how='inner')"
      ]
    },
    {
      "cell_type": "markdown",
      "metadata": {
        "pycharm": {
          "name": "#%% md\n"
        },
        "id": "Ahc2m-os2VXr"
      },
      "source": [
        "### Step 9. Merge all values in data1 and data2, with matching records from both sides where available."
      ]
    },
    {
      "cell_type": "code",
      "execution_count": null,
      "metadata": {
        "pycharm": {
          "name": "#%%\n"
        },
        "colab": {
          "base_uri": "https://localhost:8080/"
        },
        "id": "64cRZTur2VXr",
        "outputId": "7f86f1e4-3694-41c0-c040-6683180cfcf0"
      },
      "outputs": [
        {
          "output_type": "stream",
          "name": "stdout",
          "text": [
            "  subject_id first_name_x last_name_x first_name_y last_name_y\n",
            "0          1         Alex    Anderson          NaN         NaN\n",
            "1          2          Amy    Ackerman          NaN         NaN\n",
            "2          3        Allen         Ali          NaN         NaN\n",
            "3          4        Alice        Aoni        Billy      Bonder\n",
            "4          5       Ayoung     Atiches        Brian       Black\n",
            "5          6          NaN         NaN         Bran     Balwner\n",
            "6          7          NaN         NaN        Bryce       Brice\n",
            "7          8          NaN         NaN        Betty      Btisan\n"
          ]
        }
      ],
      "source": [
        "data1_data2_outer_merged = pd.merge(data1, data2, on='subject_id', how='outer')\n",
        "print(data1_data2_outer_merged)"
      ]
    }
  ],
  "metadata": {
    "kernelspec": {
      "display_name": "Python 2",
      "language": "python",
      "name": "python2"
    },
    "language_info": {
      "codemirror_mode": {
        "name": "ipython",
        "version": 2
      },
      "file_extension": ".py",
      "mimetype": "text/x-python",
      "name": "python",
      "nbconvert_exporter": "python",
      "pygments_lexer": "ipython2",
      "version": "2.7.11"
    },
    "colab": {
      "provenance": []
    }
  },
  "nbformat": 4,
  "nbformat_minor": 0
}